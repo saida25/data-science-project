{
 "cells": [
  {
   "cell_type": "markdown",
   "id": "b2fb1b96",
   "metadata": {},
   "source": []
  },
  {
   "cell_type": "code",
   "execution_count": null,
   "id": "ea3522e6",
   "metadata": {},
   "outputs": [],
   "source": [
    "import numpy as np\n",
    "import pandas as pd\n",
    "\n",
    "# Create array of 10 numbers\n",
    "arr = np.array([12, 7, 22, 5, 9, 13, 15, 8, 20, 11])\n",
    "\n",
    "# Compute mean, std, min\n",
    "mean_val = arr.mean()\n",
    "std_val = arr.std()\n",
    "min_val = arr.min()\n",
    "\n",
    "print(\"Mean:\", mean_val)\n",
    "print(\"Standard Deviation:\", std_val)\n",
    "print(\"Minimum Value:\", min_val)\n",
    "\n",
    "\n",
    "\n",
    "# Create fake data\n",
    "data = {\n",
    "    \"Name\": [\"Anita\", \"Rami\", \"Yasmin\", \"Tariq\", \"Ines\"],\n",
    "    \"Age\": [28, 35, 22, 30, 26],\n",
    "    \"Country\": [\"Tunisia\", \"Morocco\", \"Algeria\", \"Egypt\", \"Libya\"],\n",
    "    \"Score\": [88, 75, 92, 70, 85]\n",
    "}\n",
    "\n",
    "df = pd.DataFrame(data)\n",
    "print(df)\n",
    "\n"
   ]
  },
  {
   "cell_type": "code",
   "execution_count": null,
   "id": "a6adb85b",
   "metadata": {},
   "outputs": [],
   "source": []
  }
 ],
 "metadata": {
  "kernelspec": {
   "display_name": "Python 3",
   "language": "python",
   "name": "python3"
  },
  "language_info": {
   "codemirror_mode": {
    "name": "ipython",
    "version": 3
   },
   "file_extension": ".py",
   "mimetype": "text/x-python",
   "name": "python",
   "nbconvert_exporter": "python",
   "pygments_lexer": "ipython3",
   "version": "3.10.12"
  }
 },
 "nbformat": 4,
 "nbformat_minor": 5
}
