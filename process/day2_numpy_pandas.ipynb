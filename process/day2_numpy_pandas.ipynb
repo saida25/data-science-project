{
 "cells": [
  {
   "cell_type": "markdown",
   "id": "b2fb1b96",
   "metadata": {},
   "source": []
  },
  {
   "cell_type": "code",
   "execution_count": 6,
   "id": "ea3522e6",
   "metadata": {},
   "outputs": [
    {
     "name": "stdout",
     "output_type": "stream",
     "text": [
      "Mean: 12.2\n",
      "Standard Deviation: 5.2306787322488075\n",
      "Minimum Value: 5\n"
     ]
    }
   ],
   "source": [
    "import numpy as np\n",
    "\n",
    "# Create array of 10 numbers\n",
    "arr = np.array([12, 7, 22, 5, 9, 13, 15, 8, 20, 11])\n",
    "\n",
    "# Compute mean, std, min\n",
    "mean_val = arr.mean()\n",
    "std_val = arr.std()\n",
    "min_val = arr.min()\n",
    "\n",
    "print(\"Mean:\", mean_val)\n",
    "print(\"Standard Deviation:\", std_val)\n",
    "print(\"Minimum Value:\", min_val)\n",
    "\n"
   ]
  },
  {
   "cell_type": "code",
   "execution_count": null,
   "id": "f1f0c49a",
   "metadata": {},
   "outputs": [
    {
     "name": "stdout",
     "output_type": "stream",
     "text": [
      "     Name  Age  Country  Score\n",
      "0   Anita   28  Tunisia     88\n",
      "1    Rami   35  Morocco     75\n",
      "2  Yasmin   22  Algeria     92\n",
      "3   Tariq   30    Egypt     70\n",
      "4    Ines   26    Libya     85\n",
      "             Age      Score\n",
      "count   5.000000   5.000000\n",
      "mean   28.200000  82.000000\n",
      "std     4.816638   9.192388\n",
      "min    22.000000  70.000000\n",
      "25%    26.000000  75.000000\n",
      "50%    28.000000  85.000000\n",
      "75%    30.000000  88.000000\n",
      "max    35.000000  92.000000\n",
      "<class 'pandas.core.frame.DataFrame'>\n",
      "RangeIndex: 5 entries, 0 to 4\n",
      "Data columns (total 4 columns):\n",
      " #   Column   Non-Null Count  Dtype \n",
      "---  ------   --------------  ----- \n",
      " 0   Name     5 non-null      object\n",
      " 1   Age      5 non-null      int64 \n",
      " 2   Country  5 non-null      object\n",
      " 3   Score    5 non-null      int64 \n",
      "dtypes: int64(2), object(2)\n",
      "memory usage: 288.0+ bytes\n",
      "None\n",
      "0    Tunisia\n",
      "1    Morocco\n",
      "2    Algeria\n",
      "3      Egypt\n",
      "4      Libya\n",
      "Name: Country, dtype: object\n"
     ]
    }
   ],
   "source": [
    "import pandas as pd\n",
    "\n",
    "# Create fake data\n",
    "data = {\n",
    "    \"Name\": [\"Anita\", \"Rami\", \"Yasmin\", \"Tariq\", \"Ines\"],\n",
    "    \"Age\": [28, 35, 22, 30, 26],\n",
    "    \"Country\": [\"Tunisia\", \"Morocco\", \"Algeria\", \"Egypt\", \"Libya\"],\n",
    "    \"Score\": [88, 75, 92, 70, 85]\n",
    "}\n",
    "\n",
    "df = pd.DataFrame(data)\n",
    "print(df)\n",
    "print(df.describe())\n",
    "print(df.info())\n",
    "print(df[\"Country\"])\n",
    "\n",
    "\n",
    "\n"
   ]
  }
 ],
 "metadata": {
  "kernelspec": {
   "display_name": "Python 3",
   "language": "python",
   "name": "python3"
  },
  "language_info": {
   "codemirror_mode": {
    "name": "ipython",
    "version": 3
   },
   "file_extension": ".py",
   "mimetype": "text/x-python",
   "name": "python",
   "nbconvert_exporter": "python",
   "pygments_lexer": "ipython3",
   "version": "3.10.12"
  }
 },
 "nbformat": 4,
 "nbformat_minor": 5
}
